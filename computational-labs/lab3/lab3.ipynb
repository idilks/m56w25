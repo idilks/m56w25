{
 "cells": [
  {
   "cell_type": "markdown",
   "metadata": {},
   "source": [
    "# Computational Lab #3: introduction to iterative methods\n",
    "## Math 56, Winter 2025"
   ]
  },
  {
   "cell_type": "code",
   "execution_count": 1,
   "metadata": {},
   "outputs": [],
   "source": [
    "import numpy as np\n",
    "import matplotlib.pyplot as plt\n",
    "\n",
    "from lab3_helper_funcs import *"
   ]
  },
  {
   "cell_type": "markdown",
   "metadata": {},
   "source": [
    "# Problem 1\n",
    "\n",
    "In this question, you will compare Richardson's method (gradient descent with fixed stepsize) with steepest descent (with variable stepsize)."
   ]
  },
  {
   "cell_type": "code",
   "execution_count": 2,
   "metadata": {},
   "outputs": [],
   "source": [
    "n = 200\n",
    "np.random.seed(0)\n",
    "A = np.random.normal(size=n)\n",
    "A = (A.T @ A) + 1e-1*np.eye(n)\n",
    "xtrue = np.random.normal(size=n)\n",
    "b = A @ xtrue"
   ]
  },
  {
   "cell_type": "markdown",
   "metadata": {},
   "source": [
    "**Part (a):** Complete the following functions for Richardson's method and steepest descent. "
   ]
  },
  {
   "cell_type": "code",
   "execution_count": 181,
   "metadata": {},
   "outputs": [],
   "source": [
    "def richardson(A, b, n_iterations=25, alpha=1.0, x0=None):\n",
    "    \n",
    "    # Initialization if none given\n",
    "    if x0 is None:\n",
    "        x = np.zeros(len(b))\n",
    "    else:\n",
    "        x = x0.copy()\n",
    "\n",
    "\n",
    "    r = b - A @ x\n",
    "    residual_norms = [ np.linalg.norm(r) ]\n",
    "    solution_history = [ x.copy() ] \n",
    "    for j in range(n_iterations):\n",
    "        \n",
    "        ## Your code here\n",
    "\n",
    "\n",
    "        residual_norms.append( np.linalg.norm(r) )\n",
    "        solution_history.append(x.copy())\n",
    "\n",
    "    return x, residual_norms, solution_history\n"
   ]
  },
  {
   "cell_type": "code",
   "execution_count": 182,
   "metadata": {},
   "outputs": [],
   "source": [
    "def steepest_descent(A, b, n_iterations=25, x0=None):\n",
    "\n",
    "    # Initialization if none given\n",
    "    if x0 is None:\n",
    "        x = np.zeros(len(b))\n",
    "    else:\n",
    "        x = x0.copy()\n",
    "\n",
    "    r = b - A @ x\n",
    "    residual_norms = [ np.linalg.norm(r) ]\n",
    "    solution_history = [ x.copy() ] \n",
    "    for j in range(n_iterations):\n",
    "        \n",
    "        # Your code here\n",
    "\n",
    "        residual_norms.append( np.linalg.norm(r) )\n",
    "        solution_history.append(x.copy())\n",
    "\n",
    "    return x, residual_norms, solution_history\n",
    "\n",
    "    "
   ]
  },
  {
   "cell_type": "markdown",
   "metadata": {},
   "source": [
    "**Part (b):** Make a plot (or two) that verifies that Richardson's method converges when the stepsize parameter satisfies  $\\alpha < \\frac{2}{\\lambda_{\\text{max}}(\\mathbf{A})}$."
   ]
  },
  {
   "cell_type": "markdown",
   "metadata": {},
   "source": [
    "**Part (c):** Compare the performance of steepest descent with Richardson's method (using a good stepsize). What do you observe?"
   ]
  },
  {
   "cell_type": "markdown",
   "metadata": {},
   "source": [
    "# Problem 2\n",
    "\n",
    "Next, we will compare steepest descent with the conjugate gradient method."
   ]
  },
  {
   "cell_type": "code",
   "execution_count": 3,
   "metadata": {},
   "outputs": [],
   "source": [
    "A = np.load(\"q2_A.npy\")\n",
    "n = A.shape[0]\n",
    "xtrue = np.ones(n)\n",
    "b = A @ xtrue"
   ]
  },
  {
   "cell_type": "markdown",
   "metadata": {},
   "source": [
    "**Part (a):** Complete the following function for the conjugate gradient (CG) method."
   ]
  },
  {
   "cell_type": "code",
   "execution_count": 204,
   "metadata": {},
   "outputs": [],
   "source": [
    "def conjugate_gradients(A, b, n_iterations=25, x0=None):\n",
    "\n",
    "    # Initialization if none given\n",
    "    if x0 is None:\n",
    "        x = np.zeros(len(b))\n",
    "    else:\n",
    "        x = x0.copy()\n",
    "\n",
    "    r = b - A @ x # set r0\n",
    "    d = r # set d0 = r0\n",
    "\n",
    "    residual_norms = [ np.linalg.norm(r) ]\n",
    "    solution_history = [ x.copy() ] \n",
    "    for j in range(n_iterations):\n",
    "\n",
    "        # Your code here\n",
    "        \n",
    "\n",
    "        residual_norms.append( np.linalg.norm(r) )\n",
    "        solution_history.append(x.copy())\n",
    "\n",
    "    return x, residual_norms, solution_history\n",
    "\n",
    "    "
   ]
  },
  {
   "cell_type": "markdown",
   "metadata": {},
   "source": [
    "**Part (b):** Make a plot using ``plt.semilogy()`` which verifies the error bound\n",
    "$$\n",
    "\\| \\mathbf{x}^* - \\mathbf{x}_k \\|_{\\mathbf{A}} \\leq \\left( \\frac{ \\kappa - 1  }{ \\kappa + 1 } \\right)^k \\| \\mathbf{x}^* - \\mathbf{x}_0 \\|_{\\mathbf{A}}\n",
    "$$\n",
    "for steepest descent, as well as the error bound\n",
    "$$\n",
    "\\| \\mathbf{x}^* - \\mathbf{x}_k \\|_{\\mathbf{A}} \\leq 2 \\left( \\frac{ \\sqrt{\\kappa} - 1  }{ \\sqrt{\\kappa} + 1 } \\right)^k \\| \\mathbf{x}^* - \\mathbf{x}_0 \\|_{\\mathbf{A}}\n",
    "$$\n",
    "for the CG method. Describe anything that you notice about the behavior of the curves."
   ]
  },
  {
   "cell_type": "code",
   "execution_count": null,
   "metadata": {},
   "outputs": [],
   "source": []
  },
  {
   "cell_type": "markdown",
   "metadata": {},
   "source": [
    "**Response:** "
   ]
  },
  {
   "cell_type": "markdown",
   "metadata": {},
   "source": [
    "**Part (c):** Based on our discussions in class, can you explain why the CG method converges so quickly for this matrix $\\mathbf{A}$?"
   ]
  },
  {
   "cell_type": "code",
   "execution_count": null,
   "metadata": {},
   "outputs": [],
   "source": []
  },
  {
   "cell_type": "markdown",
   "metadata": {},
   "source": [
    "# Problem 3\n",
    "\n",
    "In this problem, you will investigate the preconditioned conjugate gradient method. Load the matrices $\\mathbf{L}$ and $\\mathbf{W}$, and then form the matrix $\\mathbf{A} = \\mathbf{L}^T \\mathbf{W} \\mathbf{L}$."
   ]
  },
  {
   "cell_type": "code",
   "execution_count": 44,
   "metadata": {},
   "outputs": [],
   "source": [
    "L = np.load(\"q3_L.npy\")\n",
    "W = np.load(\"q3_W.npy\")\n",
    "A = L.T @ W @ L"
   ]
  },
  {
   "cell_type": "code",
   "execution_count": 45,
   "metadata": {},
   "outputs": [
    {
     "data": {
      "image/png": "[encoded data removed]",
      "text/plain": [
       "<Figure size 640x480 with 1 Axes>"
      ]
     },
     "metadata": {},
     "output_type": "display_data"
    }
   ],
   "source": [
    "plt.imshow(L)\n",
    "plt.show()"
   ]
  },
  {
   "cell_type": "markdown",
   "metadata": {},
   "source": [
    "**Part (a):** Draw a random vector $\\mathbf{b}$ and solve $\\mathbf{A} \\mathbf{x} = \\mathbf{b}$ using CG. Then, solve the same system but using preconditioned CG with preconditioner $\\mathbf{M} = \\mathbf{L}^T \\mathbf{L}$. Make a plot of the iteration index versus the residual norm. "
   ]
  },
  {
   "cell_type": "code",
   "execution_count": 46,
   "metadata": {},
   "outputs": [],
   "source": [
    "np.random.seed(0)\n",
    "M = L.T @ L\n",
    "b = np.random.normal(size=A.shape[0])"
   ]
  },
  {
   "cell_type": "code",
   "execution_count": 48,
   "metadata": {},
   "outputs": [],
   "source": [
    "def preconditioned_conjugate_gradients(A, b, M, n_iterations=25, x0=None):\n",
    "\n",
    "    if x0 is None:\n",
    "        x = np.zeros(len(b))\n",
    "    else:\n",
    "        x = x0.copy()\n",
    "\n",
    "    r = b - A @ x  # Initial residual r0\n",
    "    z = np.linalg.solve(M, r)  # Preconditioned residual z0\n",
    "    d = z.copy()  # Initial direction\n",
    "\n",
    "    residual_norms = [np.linalg.norm(r)]\n",
    "    solution_history = [x.copy()]\n",
    "\n",
    "    for j in range(n_iterations):\n",
    "        Ad = A @ d\n",
    "        alpha = np.dot(r, z) / np.dot(d, Ad)  # Step size\n",
    "        x += alpha * d  # Update solution\n",
    "        r_new = r - alpha * Ad  # Update residual\n",
    "        z_new = np.linalg.solve(M, r_new)  # Apply preconditioner\n",
    "        beta = np.dot(r_new, z_new) / np.dot(r, z)  # Update coefficient\n",
    "        d = z_new + beta * d  # Update direction\n",
    "\n",
    "        r, z = r_new, z_new  # Update residuals for next iteration\n",
    "        residual_norms.append(np.linalg.norm(r))\n",
    "        solution_history.append(x.copy())\n",
    "\n",
    "\n",
    "    return x, residual_norms, solution_history"
   ]
  },
  {
   "cell_type": "code",
   "execution_count": null,
   "metadata": {},
   "outputs": [],
   "source": []
  },
  {
   "cell_type": "code",
   "execution_count": null,
   "metadata": {},
   "outputs": [],
   "source": []
  },
  {
   "cell_type": "markdown",
   "metadata": {},
   "source": [
    "**Part (b):** Can you explain why $\\mathbf{M}$ is a good preconditioner? Make a plot to support your answer.\n",
    "\n",
    "**Response:**"
   ]
  },
  {
   "cell_type": "code",
   "execution_count": null,
   "metadata": {},
   "outputs": [],
   "source": []
  },
  {
   "cell_type": "markdown",
   "metadata": {},
   "source": [
    "*Bonus:* modify your code for preconditioned CG so that any factorization of $\\mathbf{M}$ used for applying $\\mathbf{M}^{-1}$ is re-used across the iterations of preconditioned CG."
   ]
  },
  {
   "cell_type": "code",
   "execution_count": null,
   "metadata": {},
   "outputs": [],
   "source": []
  }
 ],
 "metadata": {
  "kernelspec": {
   "display_name": "jlinops",
   "language": "python",
   "name": "python3"
  },
  "language_info": {
   "codemirror_mode": {
    "name": "ipython",
    "version": 3
   },
   "file_extension": ".py",
   "mimetype": "text/x-python",
   "name": "python",
   "nbconvert_exporter": "python",
   "pygments_lexer": "ipython3",
   "version": "3.11.6"
  }
 },
 "nbformat": 4,
 "nbformat_minor": 2
}
