{
 "cells": [
  {
   "cell_type": "markdown",
   "metadata": {},
   "source": [
    "# Computational Lab #1: NumPy basics and implicit matrix computations\n",
    "## Math 56, Winter 2025"
   ]
  },
  {
   "cell_type": "markdown",
   "metadata": {},
   "source": [
    "The purpose of this assignment is to familiarize you with representing vectors and matrices as NumPy ``ndarray``s, making plots with Matplotlib, and understanding the SciPy ``LinearOperator`` object -- each of these three concepts will be used in labs later in the class. We refer you to the many great Python/NumPy/Matplotlib/SciPy tutorials that exist on the internet, and merely present some exercises for you here."
   ]
  },
  {
   "cell_type": "code",
   "execution_count": 94,
   "metadata": {},
   "outputs": [],
   "source": [
    "# Imports\n",
    "import numpy as np\n",
    "import matplotlib.pyplot as plt\n",
    "from scipy.sparse.linalg import LinearOperator"
   ]
  },
  {
   "cell_type": "markdown",
   "metadata": {},
   "source": [
    "# Problem 1\n",
    "\n",
    "Write some code that produces the following $10 \\times 10$ matrix as a NumPy ``ndarray``:\n",
    "\\begin{align*}\n",
    "\\begin{bmatrix}\n",
    "1 & 0 & 1 & 0 & 1 & 0 & 1 & 0 & 1 & 0 \\\\\n",
    "0 & 1 & 0 & 1 & 0 & 1 & 0 & 1 & 0 & 1 \\\\\n",
    "1 & 0 & 1 & 0 & 1 & 0 & 1 & 0 & 1 & 0 \\\\\n",
    "0 & 1 & 0 & 1 & 0 & 1 & 0 & 1 & 0 & 1 \\\\\n",
    "1 & 0 & 1 & 0 & 1 & 0 & 1 & 0 & 1 & 0 \\\\\n",
    "0 & 1 & 0 & 1 & 0 & 1 & 0 & 1 & 0 & 1 \\\\\n",
    "1 & 0 & 1 & 0 & 1 & 0 & 1 & 0 & 1 & 0 \\\\\n",
    "0 & 1 & 0 & 1 & 0 & 1 & 0 & 1 & 0 & 1 \\\\\n",
    "1 & 0 & 1 & 0 & 1 & 0 & 1 & 0 & 1 & 0 \\\\\n",
    "0 & 1 & 0 & 1 & 0 & 1 & 0 & 1 & 0 & 1 \\\\\n",
    "\\end{bmatrix}\n",
    "\\end{align*}\n",
    "Use ``plt.imshow(  )`` to plot the matrix, followed by ``plt.colorbar( )`` to include a colorbar."
   ]
  },
  {
   "cell_type": "code",
   "execution_count": 113,
   "metadata": {},
   "outputs": [],
   "source": [
    "# Define A here\n",
    "\n"
   ]
  },
  {
   "cell_type": "code",
   "execution_count": null,
   "metadata": {},
   "outputs": [],
   "source": [
    "# Then plot\n",
    "plt.imshow(A)\n",
    "plt.colorbar()\n",
    "plt.show()"
   ]
  },
  {
   "cell_type": "markdown",
   "metadata": {},
   "source": [
    "# Problem 2\n",
    "\n",
    "**Part (a):** Write a Python function that returns the following $n \\times n$ matrix as a NumPy ``ndarray``: \n",
    "\\begin{align*}\n",
    "\\begin{bmatrix}\n",
    "1 & -1 & & &  \\\\\n",
    "-1 & 2 & -1 & &  \\\\\n",
    "& \\ddots & \\ddots & \\ddots  & \\\\\n",
    "&  & -1 & 2  & -1 \\\\\n",
    "&  &  & -1  & 1\n",
    "\\end{bmatrix}\n",
    "\\end{align*} \n",
    "Your function should accept a positive integer $n$ as its input. Then, use ``plt.imshow(  )`` to plot the matrix, followed by ``plt.colorbar( )`` to include a colorbar."
   ]
  },
  {
   "cell_type": "code",
   "execution_count": 96,
   "metadata": {},
   "outputs": [],
   "source": [
    "# Fill in with code here\n",
    "def prob2_matrix(n):\n",
    "\n",
    "    return matrix"
   ]
  },
  {
   "cell_type": "code",
   "execution_count": 97,
   "metadata": {},
   "outputs": [],
   "source": [
    "# Then plot\n",
    "A = prob2_matrix(10)\n",
    "\n",
    "plt.imshow(A)\n",
    "plt.colorbar()\n",
    "plt.show()"
   ]
  },
  {
   "cell_type": "markdown",
   "metadata": {},
   "source": [
    "**Part (b):** What is the rank of the matrix, in terms of $n$? You may make use of any functions available in NumPy/SciPy to determine this; it can also be determined analytically by inspecting the form of the matrix.\n",
    "\n",
    "**Response:**"
   ]
  },
  {
   "cell_type": "code",
   "execution_count": null,
   "metadata": {},
   "outputs": [],
   "source": []
  },
  {
   "cell_type": "markdown",
   "metadata": {},
   "source": [
    "# Problem 3\n",
    "\n",
    "**Part (a):** Write a Python function that returns the following $(n-1) \\times n$ matrix as a NumPy ``ndarray``: \n",
    "\\begin{align*}\n",
    "\\begin{bmatrix}\n",
    "1 & -1 & & &  \\\\\n",
    "  & 1 & -1 & &  \\\\\n",
    "&  & \\ddots & \\ddots  & \\\\\n",
    "&  &  & 1  & -1 \\\\\n",
    "\\end{bmatrix}\n",
    "\\end{align*} \n",
    "Your function should accept a positive integer $n$ as its input. Then, use ``plt.imshow(  )`` to plot the matrix, followed by ``plt.colorbar( )`` to include a colorbar."
   ]
  },
  {
   "cell_type": "code",
   "execution_count": 116,
   "metadata": {},
   "outputs": [],
   "source": [
    "# Fill in with code here\n",
    "def prob3_matrix(n):\n",
    "\n",
    "    return matrix"
   ]
  },
  {
   "cell_type": "code",
   "execution_count": null,
   "metadata": {},
   "outputs": [],
   "source": [
    "# Then plot\n",
    "A = prob3_matrix(10)\n",
    "\n",
    "plt.imshow(A)\n",
    "plt.colorbar()\n",
    "plt.show()"
   ]
  },
  {
   "cell_type": "markdown",
   "metadata": {},
   "source": [
    "**Part (b):** What is the rank of the matrix, in terms of $n$? You may make use of any functions available in NumPy/SciPy to determine this; it can also be determined analytically by inspecting the form of the matrix.\n",
    "\n",
    "**Response:**"
   ]
  },
  {
   "cell_type": "code",
   "execution_count": null,
   "metadata": {},
   "outputs": [],
   "source": []
  },
  {
   "cell_type": "markdown",
   "metadata": {},
   "source": [
    "**Part (c):** Let ``A = prob3_matrix(10)`` and ``B = A.T @ A'' (i.e., $B = A^T A$; with NumPy the \"@\" symbol is shorthand for matrix-matrix multiplication). What do you notice?\n",
    "\n",
    "**Response:**"
   ]
  },
  {
   "cell_type": "code",
   "execution_count": 118,
   "metadata": {},
   "outputs": [],
   "source": [
    "A = prob3_matrix(10)\n",
    "B = A.T @ A\n",
    "\n",
    "plt.imshow(B)\n",
    "plt.colorbar()\n",
    "plt.show()"
   ]
  },
  {
   "cell_type": "markdown",
   "metadata": {},
   "source": [
    "# Problem 4\n",
    "\n",
    "Using matplotlib, reproduce the following plot *exactly* (as close as you can get). You might take a look at the [matplotlib quick start guide](https://matplotlib.org/stable/users/explain/quick_start.html) or other matplotlib documentation available on the internet."
   ]
  },
  {
   "cell_type": "markdown",
   "metadata": {},
   "source": [
    "![title](sin_and_cos.png)"
   ]
  },
  {
   "cell_type": "code",
   "execution_count": 119,
   "metadata": {},
   "outputs": [],
   "source": [
    "# Write code to reproduce the plot here"
   ]
  },
  {
   "cell_type": "markdown",
   "metadata": {},
   "source": [
    "## A bit on ``LinearOperator``'s\n",
    "\n",
    "We will often refer to certain matrix-vector or matrix-matrix products as being performed \"implicitly\", meaning that we assume one can perform operations with these matrices without storing them explicitly and computing these products using the standard matrix-vector product (\"matvec\") matrix-matrix product (\"matmat\") algorithms for dense matrices. By referencing these matrices only implicitly, we can gain enormous savings in terms of computational cost as well as memory footprint. Some examples include the permutation matrices arising in Gaussian elimination with pivoting, and the Householder reflectors or  Givens roations that arise in the direct solution of least squares problems. Implicit representations of matrices play an even bigger role when we turn to iterative methods later in the course.\n",
    "\n",
    "The purpose of the next two questions in the lab are to get you familiar with thinking about certain matrix operations implicitly. In Python, one can represent a matrix implicitly using the [``LinearOperator``](https://docs.scipy.org/doc/scipy/reference/generated/scipy.sparse.linalg.LinearOperator.html) class provided by SciPy. If you have not encountered object-oriented programming before, you might read up [here](https://realpython.com/python3-object-oriented-programming/#:~:text=into%20individual%20objects.-,What%20Is%20Object%2DOriented%20Programming%20in%20Python%3F,are%20bundled%20into%20individual%20objects.) so that you understand concepts such as classes, objects, methods, attributes, etc.\n",
    "\n",
    "Let's walk through a brief example involves refering a diagonal matrix $\\mathbf{D} = \\operatorname{diag}(\\mathbf{d}) \\in \\mathbb{R}^{n \\times n}$ only implicitly. Storing $\\mathbf{D}$ (in a dense array format) requires the storage of $n^2$ floating point numbers, and multipling a vector $\\mathbf{x}$ by $\\mathbf{D}$ using the dense matrix-vector product algorithm costs $n^2$. Yet, it is clear that all of the information about $\\mathbf{D}$ is summarized in with just the storage of $n$ floating point numbers and that matvecs should be able to be computed in just $n$ flops. \n",
    "\n",
    "Here is a template for a ``DiagonalOperator``:"
   ]
  },
  {
   "cell_type": "code",
   "execution_count": 120,
   "metadata": {},
   "outputs": [],
   "source": [
    "class DiagonalOperator(LinearOperator):\n",
    "\n",
    "    def __init__(self, diagonal, dtype=None):\n",
    "\n",
    "        self.diagonal = diagonal.ravel() # the diagonal of D\n",
    "        super().__init__(dtype=np.dtype(dtype), shape=(len(self.diagonal), len(self.diagonal))) # defining the dtype and shape of the operator\n",
    "\n",
    "    # Implementing the matvec operation. The matvec corresponds to just elementwise multiplication of x with the diagonal entries!\n",
    "    def _matvec(self, x):\n",
    "\n",
    "        return self.diagonal * x\n",
    "    \n",
    "    # The transpose vector product (\"rmatvec\") is the same as the matvec, since D is symmetric!\n",
    "    def _rmatvec(self, x):\n",
    "        \n",
    "        return self._matvec(x)"
   ]
  },
  {
   "cell_type": "code",
   "execution_count": 121,
   "metadata": {},
   "outputs": [
    {
     "name": "stdout",
     "output_type": "stream",
     "text": [
      "diagonal: [0 1 2 3 4 5 6 7 8 9]\n",
      "x: [1. 1. 1. 1. 1. 1. 1. 1. 1. 1.]\n",
      "Dx: [0. 1. 2. 3. 4. 5. 6. 7. 8. 9.]\n"
     ]
    }
   ],
   "source": [
    "diagonal = np.arange(10)\n",
    "D = DiagonalOperator(diagonal)\n",
    "x = np.ones(10)\n",
    "\n",
    "print(f\"diagonal: {diagonal}\")\n",
    "print(f\"x: {x}\")\n",
    "print(f\"Dx: {D @ x}\")"
   ]
  },
  {
   "cell_type": "markdown",
   "metadata": {},
   "source": [
    "A neat thing about the ``LinearOperator`` class is that all of the logic for building the matrix-matrix product as well as handling sums and products of ``LinearOperator``s is already implemented for you. For example, we can represent $D^2$ as"
   ]
  },
  {
   "cell_type": "code",
   "execution_count": 122,
   "metadata": {},
   "outputs": [],
   "source": [
    "D_squared = D @ D"
   ]
  },
  {
   "cell_type": "markdown",
   "metadata": {},
   "source": [
    "which does not actually perform the dense matrix-matrix product of the array $D$ with itself, i.e., the operation"
   ]
  },
  {
   "cell_type": "code",
   "execution_count": 123,
   "metadata": {},
   "outputs": [
    {
     "data": {
      "text/plain": [
       "array([ 0.,  1.,  4.,  9., 16., 25., 36., 49., 64., 81.])"
      ]
     },
     "execution_count": 123,
     "metadata": {},
     "output_type": "execute_result"
    }
   ],
   "source": [
    "D_squared @ x"
   ]
  },
  {
   "cell_type": "markdown",
   "metadata": {},
   "source": [
    "is equivalent to ``D ( D @ x )`` (the parentheses matter) and costs only $2n$ flops."
   ]
  },
  {
   "cell_type": "markdown",
   "metadata": {},
   "source": [
    "# Problem 5\n",
    "\n",
    "Write a subclass of ``LinearOperator`` that implements a permutation operator $\\mathbf{P}$. Specifically, given an input vector $\\mathbf{x} = [x_0, x_1, \\ldots, x_{n-1}]^T \\in \\mathbb{R}^n$ and a permutation $\\sigma : \\{ 0, \\ldots, n-1 \\} \\to \\{ 0, \\ldots, n-1 \\}$, the matrix-vector product $\\mathbf{Px}$ implemented by the ``_matvec()`` method gives the vector $\\mathbf{Px} = [x_{\\sigma(0)}, x_{\\sigma(1)}, \\ldots, x_{\\sigma(n-1)}]^T$. \n",
    "\n",
    "To implement the transpose matrix-vector product in ``_rmatvec()``, note that permutation transformations are orthogonal, i.e., if $\\mathbf{y} = [y_{i_1}, y_{i_2}, \\ldots, y_{i_{n-1}}]^T$ then $P^T y = [ y_{\\sigma^{-1}(i_1)}, y_{\\sigma^{-1}(i_2)}, \\ldots, y_{\\sigma^{-1}(i_{n-1})} ]^T$, i.e., $P^T$ performs the inverse permutation.\n",
    "\n",
    "Note that when the permutation operator is applied to a matrix $\\mathbf{A}$, it acts on the columns as $\\mathbf{P} \\mathbf{A} = \\mathbf{P} [\\mathbf{a}_1, \\ldots, \\mathbf{a}_n] = [ \\mathbf{P} \\mathbf{a}_1, \\ldots, \\mathbf{P} \\mathbf{a}_n]$, meaning that $\\mathbf{P}$  permutates the rows of $\\mathbf{A}$."
   ]
  },
  {
   "cell_type": "code",
   "execution_count": 107,
   "metadata": {},
   "outputs": [],
   "source": [
    "## Fill in the _matvec and _rmatvec methods of the PermutationOperator\n",
    "class PermutationOperator(LinearOperator):\n",
    "\n",
    "    def __init__(self, new_indices, dtype=None):\n",
    "\n",
    "        self.new_indices = new_indices\n",
    "        self.n_entries = len(new_indices)\n",
    "        self.old_indices = np.zeros_like(new_indices)\n",
    "        for j, idx in enumerate(self.new_indices):\n",
    "            self.old_indices[idx] = j\n",
    "\n",
    "        super().__init__(dtype=np.dtype(dtype), shape=(self.n_entries, self.n_entries))\n",
    "\n",
    "    def _matvec(self, x):\n",
    "\n",
    "       \n",
    "        return result\n",
    "    \n",
    "    def _rmatvec(self, x):\n",
    "\n",
    "        \n",
    "        return result"
   ]
  },
  {
   "cell_type": "code",
   "execution_count": 110,
   "metadata": {},
   "outputs": [
    {
     "name": "stdout",
     "output_type": "stream",
     "text": [
      "P @ x: [2. 3. 0. 1. 4.]\n",
      "P.T @ P @ x: [0. 1. 2. 3. 4.]\n"
     ]
    }
   ],
   "source": [
    "# Here is a check for you: the first result of the below should be [2, 3, 0, 1, 4], the second should be [0, 1, 2, 3, 4].\n",
    "# But just because you pass this test does not mean your operator is implemented correctly!\n",
    "\n",
    "new_indices = [2, 3, 0, 1, 4] # indices defining the permutation\n",
    "P = PermutationOperator(new_indices) # create permutation operator\n",
    "x = np.arange(P.shape[1]) # create a test vector\n",
    "\n",
    "print(f\"P @ x: {P @ x}\")\n",
    "print(f\"P.T @ P @ x: {P.T @ P @ x}\")"
   ]
  },
  {
   "cell_type": "markdown",
   "metadata": {},
   "source": [
    "# Problem 6\n",
    "\n",
    "When implementing an implicit representation of $A \\in \\mathbb{R}^{m \\times n}$, it is important that the ``matvec`` and ``rmatvec`` operations agree in the sense that\n",
    "\\begin{align}\n",
    "\\forall \\mathbf{x} \\in \\mathbb{R}^n, \\forall \\mathbb{y} \\in \\mathbb{R}^m, \\quad \\langle \\mathbf{y}, \\mathbf{A} \\mathbf{x} \\rangle = \\langle \\mathbf{A}^T \\mathbf{y}, \\mathbf{x} \\rangle.\n",
    "\\end{align}\n",
    "One way to check this numerically is to check whether \n",
    "\\begin{align}\n",
    "\\left| \\langle \\mathbf{y}_i, \\mathbf{A} \\mathbf{x}_i \\rangle - \\langle \\mathbf{A}^T \\mathbf{y}_i, \\mathbf{x}_i \\rangle  \\right| < \\varepsilon\n",
    "\\end{align}\n",
    "for a small tolerance parameter $\\varepsilon$ (e.g., $\\varepsilon = 10^{-10}$) and set of test vectors $\\{ (\\mathbf{x}_i, \\mathbf{y}_i) \\}$. \n",
    "\n",
    "**Part (a):** Write a function ``check_adjoint()`` which accepts a ``LinearOperator`` and checks whether the adjoint test is satisfied for a set of `n_trials` random test vectors. The function should return `False` *unless* the adjoint test is satsified for *all* *`n_trials`* pairs of test vectors."
   ]
  },
  {
   "cell_type": "code",
   "execution_count": 124,
   "metadata": {},
   "outputs": [],
   "source": [
    "# Fill in code for the function below\n",
    "def check_adjoint(A, n_trials=10, tol=1e-10):\n",
    "\n",
    "\n",
    "    return passed_checks"
   ]
  },
  {
   "cell_type": "markdown",
   "metadata": {},
   "source": [
    "**Part (b):** Use your ``check_adjoint()`` function to check whether ``DiagonalOperator`` as well as your implementation of ``PermutationOperator`` passes the adjoint test (if it doesn't, that means your implementation of ``_rmatvec( )`` is incorrect). "
   ]
  }
 ],
 "metadata": {
  "kernelspec": {
   "display_name": "jlinops",
   "language": "python",
   "name": "python3"
  },
  "language_info": {
   "codemirror_mode": {
    "name": "ipython",
    "version": 3
   },
   "file_extension": ".py",
   "mimetype": "text/x-python",
   "name": "python",
   "nbconvert_exporter": "python",
   "pygments_lexer": "ipython3",
   "version": "3.11.6"
  }
 },
 "nbformat": 4,
 "nbformat_minor": 2
}
